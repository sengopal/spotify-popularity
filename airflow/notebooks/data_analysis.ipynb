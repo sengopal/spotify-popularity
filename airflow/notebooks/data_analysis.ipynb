{
 "cells": [
  {
   "cell_type": "code",
   "execution_count": 1,
   "metadata": {
    "pycharm": {
     "name": "#%%\n"
    }
   },
   "outputs": [
    {
     "name": "stderr",
     "output_type": "stream",
     "text": [
      "/tmp/ipykernel_2025/1303964058.py:39: FutureWarning: Passing a negative integer is deprecated in version 1.0 and will not be supported in future version. Instead, use None to not limit the column width.\n",
      "  pd.set_option('display.max_colwidth', -1)\n"
     ]
    }
   ],
   "source": [
    "# from pyspark.sql import SparkSession\n",
    "\n",
    "# # Spark session & context\n",
    "# spark = (SparkSession\n",
    "#          .builder\n",
    "#          .master(\"local\")\n",
    "#          .appName(\"load-postgres\")\n",
    "#          # Add postgres jar\n",
    "#          .config(\"spark.driver.extraClassPath\", \"/home/sengopal/work/jars/postgresql-9.4.1207.jar\")\n",
    "#          .getOrCreate())\n",
    "# sc = spark.sparkContext\n",
    "\n",
    "# df.select(df.corpus, F.struct(df.word_count, df.filtered.getItem(0).alias('word')).alias('count_word')) \\\n",
    "#   .where(F.col('count_word').getItem('word').isNotNull()) \\\n",
    "#   .groupby('corpus') \\\n",
    "#   .agg({'count_word': 'max'}) \\\n",
    "#   .orderBy('corpus') \\\n",
    "#   .select(\n",
    "#      'corpus',\n",
    "#      F.col('max(count_word)').getItem('word').alias('word'),\n",
    "#      F.col('max(count_word)').getItem('word_count').alias('count')) \\\n",
    "#   .toPandas()\n",
    "\n",
    "\n",
    "# from pyspark.sql.functions import explode, split, regexp_replace\n",
    "# # explode(split(  # \\'\\[\\]\n",
    "# df2 = df1.select(df.name,F.explode(F.split(F.regexp_replace(df.id_artists, \"['\\[\\] ]\", \"\"),\",\")))\n",
    "# # df2.printSchema()\n",
    "# df2.toPandas()\n",
    "\n",
    "\n",
    "# from pyspark.sql.functions import count, when, isnan, col\n",
    "# df_tracks.select([count(when(isnan(c) | col(c).isNull(), c)).alias(c) for c in df.columns]).show()\n",
    "\n",
    "# pd.set_option('display.max_rows', None)\n",
    "# pd.set_option('display.max_columns', None)\n",
    "# pd.set_option('display.width', None)\n",
    "import pandas as pd\n",
    "pd.set_option('display.max_colwidth', -1)"
   ]
  },
  {
   "cell_type": "code",
   "execution_count": 2,
   "metadata": {
    "pycharm": {
     "name": "#%%\n"
    }
   },
   "outputs": [],
   "source": [
    "from pyspark.sql import SparkSession\n",
    "from pyspark.sql import functions as F\n",
    "\n",
    "spark = SparkSession.builder.master('local').appName('bq').config('spark.driver.extraClassPath', 'spark-bigquery-with-dependencies_2.12-0.23.2.jar').getOrCreate()\n",
    "# Read the data in from BigQuery\n",
    "# Not necessary as the file seems to be correctly detected from the env variables\n",
    "# spark.conf.set(\"credentialsFile\", \"/.google/credentials/google_credentials.json \")"
   ]
  },
  {
   "cell_type": "code",
   "execution_count": 3,
   "metadata": {
    "pycharm": {
     "name": "#%%\n"
    }
   },
   "outputs": [],
   "source": [
    "df_tracks = spark.read \\\n",
    "  .format('bigquery') \\\n",
    "  .load('fluent-tea-338517.spotify_monthly_data.tracks_data')\n",
    "\n",
    "df_artists = spark.read \\\n",
    "  .format('bigquery') \\\n",
    "  .load('fluent-tea-338517.spotify_monthly_data.artists_data')"
   ]
  },
  {
   "cell_type": "code",
   "execution_count": 4,
   "metadata": {},
   "outputs": [],
   "source": [
    "### tracks data preparation\n",
    "df_tracks = df_tracks.withColumnRenamed(\"id\",\"track_id\").withColumnRenamed(\"name\",\"track_name\").withColumnRenamed(\"popularity\",\"track_popularity\")\n",
    "\n",
    "### artists data preparation\n",
    "df_artists = df_artists.withColumnRenamed(\"id\",\"artist_id\").withColumnRenamed(\"name\",\"artist_name\").withColumnRenamed(\"popularity\",\"artist_popularity\")"
   ]
  },
  {
   "cell_type": "code",
   "execution_count": 5,
   "metadata": {},
   "outputs": [],
   "source": [
    "# Fix the tracks to explode for the artist_id\n",
    "df_tracks = df_tracks.withColumn('cleaned_artist_id', F.explode(F.split(F.regexp_replace('id_artists', \"['\\[\\] ]\", \"\"),\",\")))\n",
    "\n",
    "# Selecting only the exploded columns and the other required columns\n",
    "df_tracks = df_tracks.select([c for c in df_tracks.columns if c not in {'artists', 'id_artists'}])"
   ]
  },
  {
   "cell_type": "code",
   "execution_count": 6,
   "metadata": {},
   "outputs": [
    {
     "name": "stdout",
     "output_type": "stream",
     "text": [
      "root\n",
      " |-- track_id: string (nullable = true)\n",
      " |-- track_name: string (nullable = true)\n",
      " |-- track_popularity: long (nullable = true)\n",
      " |-- duration_ms: long (nullable = true)\n",
      " |-- explicit: long (nullable = true)\n",
      " |-- release_date: string (nullable = true)\n",
      " |-- danceability: double (nullable = true)\n",
      " |-- energy: double (nullable = true)\n",
      " |-- key: long (nullable = true)\n",
      " |-- loudness: double (nullable = true)\n",
      " |-- mode: long (nullable = true)\n",
      " |-- speechiness: double (nullable = true)\n",
      " |-- acousticness: double (nullable = true)\n",
      " |-- instrumentalness: double (nullable = true)\n",
      " |-- liveness: double (nullable = true)\n",
      " |-- valence: double (nullable = true)\n",
      " |-- tempo: double (nullable = true)\n",
      " |-- time_signature: long (nullable = true)\n",
      " |-- artist_id: string (nullable = true)\n",
      " |-- followers: double (nullable = true)\n",
      " |-- genres: string (nullable = true)\n",
      " |-- artist_name: string (nullable = true)\n",
      " |-- artist_popularity: long (nullable = true)\n",
      "\n",
      "+--------------------+--------------------+----------------+-----------+--------+------------+------------+------+---+--------+----+-----------+------------+----------------+--------+-------+-------+--------------+--------------------+---------+--------------------+------------+-----------------+\n",
      "|            track_id|          track_name|track_popularity|duration_ms|explicit|release_date|danceability|energy|key|loudness|mode|speechiness|acousticness|instrumentalness|liveness|valence|  tempo|time_signature|           artist_id|followers|              genres| artist_name|artist_popularity|\n",
      "+--------------------+--------------------+----------------+-----------+--------+------------+------------+------+---+--------+----+-----------+------------+----------------+--------+-------+-------+--------------+--------------------+---------+--------------------+------------+-----------------+\n",
      "|65E8QQa0CvLzgom9i...|Oscillation of En...|               0|     474328|       0|  2013-02-17|       0.522| 0.887|  7|  -6.601|   1|     0.0393|     5.69E-4|           0.816|   0.557|   0.15|133.988|             4|0001wHqxbF2YYRQxG...|   6329.0|['progressive psy...|Motion Drive|               19|\n",
      "|6FrUzUjdZ4Nlkfpbq...|Vapaus Johtaa Kansaa|              46|     255120|       0|  2006-01-01|       0.495| 0.929|  8|  -3.996|   0|     0.0719|        0.01|          8.6E-6|   0.228|  0.533|144.036|             4|000BblCiHJeKvtiq5...|   1994.0|                  []|   51 Koodia|               34|\n",
      "|6t7xxgBZPHXRXZmmk...|               Kauas|              24|     218080|       0|  2004-01-01|       0.547|  0.71|  7|  -6.177|   1|     0.0378|     0.00137|         1.71E-4|   0.123|   0.64|103.054|             4|000BblCiHJeKvtiq5...|   1994.0|                  []|   51 Koodia|               34|\n",
      "|5iUYObwFGRN8T9y6J...|You Can Do It - 1...|              31|     429267|       0|        1989|        0.89| 0.389|  8| -16.527|   0|     0.0471|     0.00309|         5.14E-4|   0.045|  0.956|115.183|             4|001aJOc7CSQVo3Xzo...| 122684.0|['classic soul', ...|     One Way|               48|\n",
      "|1FtIVI4TDaPNJlIoJ...|        Lady You Are|              32|     327200|       0|        1989|       0.751| 0.288|  6| -17.018|   1|     0.0304|       0.324|         3.02E-4|  0.0755|  0.499| 91.149|             4|001aJOc7CSQVo3Xzo...| 122684.0|['classic soul', ...|     One Way|               48|\n",
      "+--------------------+--------------------+----------------+-----------+--------+------------+------------+------+---+--------+----+-----------+------------+----------------+--------+-------+-------+--------------+--------------------+---------+--------------------+------------+-----------------+\n",
      "only showing top 5 rows\n",
      "\n"
     ]
    }
   ],
   "source": [
    "# tracks_artists_data\n",
    "df_tracks = df_tracks.alias('df_tracks')\n",
    "df_artists = df_artists.alias('df_artists')\n",
    "\n",
    "df_tracks_artists_data = df_tracks.join(df_artists, df_tracks.cleaned_artist_id == df_artists.artist_id).select('df_tracks.*', 'df_artists.*')\n",
    "df_tracks_artists_data = df_tracks_artists_data.select([c for c in df_tracks_artists_data.columns if c not in {'cleaned_artist_id'}])\n",
    "df_tracks_artists_data.printSchema()\n",
    "df_tracks_artists_data.show(5)"
   ]
  },
  {
   "cell_type": "code",
   "execution_count": 7,
   "metadata": {},
   "outputs": [],
   "source": [
    "# Formulating the final table\n",
    "# Saving the data to BigQuery\n",
    "# df_tracks_artists_data.write.format('bigquery') \\\n",
    "#   .option(\"temporaryGcsBucket\",\"dtc_data_lake_fluent-tea-338517\") \\\n",
    "#   .option('table', 'fluent-tea-338517.spotify_monthly_data.tracks_artists_data') \\\n",
    "#   .save()\n",
    "\n"
   ]
  },
  {
   "cell_type": "code",
   "execution_count": 15,
   "metadata": {},
   "outputs": [
    {
     "name": "stdout",
     "output_type": "stream",
     "text": [
      "730946\n",
      "730946\n"
     ]
    }
   ],
   "source": [
    "print(df_tracks_artists_data.count())\n",
    "print(df_test.count())"
   ]
  },
  {
   "cell_type": "code",
   "execution_count": 11,
   "metadata": {},
   "outputs": [
    {
     "data": {
      "text/plain": [
       "track_id             0\n",
       "track_name           0\n",
       "track_popularity     0\n",
       "duration_ms          0\n",
       "explicit             0\n",
       "release_date         0\n",
       "danceability         0\n",
       "energy               0\n",
       "key                  0\n",
       "loudness             0\n",
       "mode                 0\n",
       "speechiness          0\n",
       "acousticness         0\n",
       "instrumentalness     0\n",
       "liveness             0\n",
       "valence              0\n",
       "tempo                0\n",
       "time_signature       0\n",
       "artist_id            0\n",
       "followers            2\n",
       "genres               0\n",
       "artist_name          0\n",
       "artist_popularity    0\n",
       "dtype: int64"
      ]
     },
     "execution_count": 11,
     "metadata": {},
     "output_type": "execute_result"
    }
   ],
   "source": [
    "df_tracks_artists_data.toPandas().isnull().sum()"
   ]
  },
  {
   "cell_type": "code",
   "execution_count": 13,
   "metadata": {},
   "outputs": [
    {
     "data": {
      "text/plain": [
       "track_id             0\n",
       "track_name           0\n",
       "track_popularity     0\n",
       "duration_ms          0\n",
       "explicit             0\n",
       "release_date         0\n",
       "danceability         0\n",
       "energy               0\n",
       "key                  0\n",
       "loudness             0\n",
       "mode                 0\n",
       "speechiness          0\n",
       "acousticness         0\n",
       "instrumentalness     0\n",
       "liveness             0\n",
       "valence              0\n",
       "tempo                0\n",
       "time_signature       0\n",
       "artist_id            0\n",
       "followers            0\n",
       "genres               0\n",
       "artist_name          0\n",
       "artist_popularity    0\n",
       "dtype: int64"
      ]
     },
     "execution_count": 13,
     "metadata": {},
     "output_type": "execute_result"
    }
   ],
   "source": [
    "df_tracks_artists_data = df_tracks_artists_data.fillna( { 'followers':0})\n",
    "df_tracks_artists_data.toPandas().isna().sum()"
   ]
  },
  {
   "cell_type": "code",
   "execution_count": 4,
   "metadata": {},
   "outputs": [],
   "source": [
    "df_test = df_tracks.limit(5)"
   ]
  },
  {
   "cell_type": "code",
   "execution_count": 5,
   "metadata": {},
   "outputs": [],
   "source": [
    "df_test.toPandas().to_csv('test.csv',index=False,header=False)"
   ]
  },
  {
   "cell_type": "code",
   "execution_count": null,
   "metadata": {},
   "outputs": [],
   "source": []
  }
 ],
 "metadata": {
  "kernelspec": {
   "display_name": "Python 3 (ipykernel)",
   "language": "python",
   "name": "python3"
  },
  "language_info": {
   "codemirror_mode": {
    "name": "ipython",
    "version": 3
   },
   "file_extension": ".py",
   "mimetype": "text/x-python",
   "name": "python",
   "nbconvert_exporter": "python",
   "pygments_lexer": "ipython3",
   "version": "3.9.10"
  }
 },
 "nbformat": 4,
 "nbformat_minor": 4
}